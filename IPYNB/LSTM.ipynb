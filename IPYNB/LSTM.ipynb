{
 "cells": [
  {
   "cell_type": "code",
   "execution_count": 2,
   "metadata": {},
   "outputs": [
    {
     "name": "stderr",
     "output_type": "stream",
     "text": [
      "Using TensorFlow backend.\n"
     ]
    }
   ],
   "source": [
    "# load dependencies\n",
    "%matplotlib inline\n",
    "import matplotlib.pyplot as plt\n",
    "import numpy\n",
    "import numpy as np\n",
    "import pandas\n",
    "import math\n",
    "from keras.models import Sequential\n",
    "from keras.layers import Dense\n",
    "from keras.layers import LSTM\n",
    "from sklearn.preprocessing import MinMaxScaler\n",
    "from sklearn.metrics import mean_squared_error"
   ]
  },
  {
   "cell_type": "code",
   "execution_count": 3,
   "metadata": {},
   "outputs": [],
   "source": [
    "# fix random seed for reproducibility\n",
    "numpy.random.seed(7)"
   ]
  },
  {
   "cell_type": "code",
   "execution_count": 4,
   "metadata": {},
   "outputs": [
    {
     "data": {
      "image/png": "[encoded data removed]",
      "text/plain": [
       "<Figure size 432x288 with 1 Axes>"
      ]
     },
     "metadata": {
      "needs_background": "light"
     },
     "output_type": "display_data"
    }
   ],
   "source": [
    "# load data\n",
    "state_data = pandas.read_csv('state_cleaned_lite.csv', usecols=[1], engine='python')\n",
    "plt.plot(state_data)\n",
    "plt.show()"
   ]
  },
  {
   "cell_type": "code",
   "execution_count": 6,
   "metadata": {},
   "outputs": [],
   "source": [
    "# load data\n",
    "state_data = pandas.read_csv('state_cleaned_lite.csv', usecols=[1], engine='python')\n",
    "\n",
    "state_data = state_data.values\n",
    "state_data = state_data.astype('float32')\n"
   ]
  },
  {
   "cell_type": "code",
   "execution_count": 5,
   "metadata": {},
   "outputs": [],
   "source": [
    "scaler = MinMaxScaler(feature_range=(0, 1))\n",
    "state_data = scaler.fit_transform(state_data)"
   ]
  },
  {
   "cell_type": "code",
   "execution_count": 6,
   "metadata": {},
   "outputs": [],
   "source": [
    "# split into train and test sets\n",
    "train_size = int(len(state_data) * 0.67)\n",
    "test_size = len(state_data) - train_size\n",
    "train, test = state_data[0:train_size,:], state_data[train_size:len(state_data),:]"
   ]
  },
  {
   "cell_type": "code",
   "execution_count": 7,
   "metadata": {
    "scrolled": true
   },
   "outputs": [],
   "source": [
    "# convert an array of values into a dataset matrix\n",
    "def create_dataset(state_data, look_back=1):\n",
    "\tdataX, dataY = [], []\n",
    "\tfor i in range(len(state_data)-look_back-1):\n",
    "\t\ta = state_data[i:(i+look_back), 0]\n",
    "\t\tdataX.append(a)\n",
    "\t\tdataY.append(state_data[i + look_back, 0])\n",
    "\treturn numpy.array(dataX), numpy.array(dataY)"
   ]
  },
  {
   "cell_type": "code",
   "execution_count": 8,
   "metadata": {},
   "outputs": [],
   "source": [
    "# reshape into X=t and Y=t+1\n",
    "look_back = 1\n",
    "trainX, trainY = create_dataset(train, look_back)\n",
    "testX, testY = create_dataset(test, look_back)"
   ]
  },
  {
   "cell_type": "code",
   "execution_count": 9,
   "metadata": {},
   "outputs": [],
   "source": [
    "# reshape input to be [samples, time steps, features]\n",
    "trainX = numpy.reshape(trainX, (trainX.shape[0], 1, trainX.shape[1]))\n",
    "testX = numpy.reshape(testX, (testX.shape[0], 1, testX.shape[1]))"
   ]
  },
  {
   "cell_type": "code",
   "execution_count": 10,
   "metadata": {},
   "outputs": [
    {
     "name": "stdout",
     "output_type": "stream",
     "text": [
      "WARNING:tensorflow:From C:\\Users\\ayoti\\Anaconda3\\lib\\site-packages\\tensorflow\\python\\framework\\op_def_library.py:263: colocate_with (from tensorflow.python.framework.ops) is deprecated and will be removed in a future version.\n",
      "Instructions for updating:\n",
      "Colocations handled automatically by placer.\n",
      "WARNING:tensorflow:From C:\\Users\\ayoti\\Anaconda3\\lib\\site-packages\\tensorflow\\python\\ops\\math_ops.py:3066: to_int32 (from tensorflow.python.ops.math_ops) is deprecated and will be removed in a future version.\n",
      "Instructions for updating:\n",
      "Use tf.cast instead.\n",
      "Epoch 1/100\n",
      " - 1s - loss: 0.1291\n",
      "Epoch 2/100\n",
      " - 0s - loss: 0.1056\n",
      "Epoch 3/100\n",
      " - 0s - loss: 0.0870\n",
      "Epoch 4/100\n",
      " - 0s - loss: 0.0723\n",
      "Epoch 5/100\n",
      " - 0s - loss: 0.0616\n",
      "Epoch 6/100\n",
      " - 0s - loss: 0.0535\n",
      "Epoch 7/100\n",
      " - 0s - loss: 0.0476\n",
      "Epoch 8/100\n",
      " - 0s - loss: 0.0435\n",
      "Epoch 9/100\n",
      " - 0s - loss: 0.0404\n",
      "Epoch 10/100\n",
      " - 0s - loss: 0.0383\n",
      "Epoch 11/100\n",
      " - 0s - loss: 0.0363\n",
      "Epoch 12/100\n",
      " - 0s - loss: 0.0348\n",
      "Epoch 13/100\n",
      " - 0s - loss: 0.0334\n",
      "Epoch 14/100\n",
      " - 0s - loss: 0.0319\n",
      "Epoch 15/100\n",
      " - 0s - loss: 0.0307\n",
      "Epoch 16/100\n",
      " - 0s - loss: 0.0294\n",
      "Epoch 17/100\n",
      " - 0s - loss: 0.0283\n",
      "Epoch 18/100\n",
      " - 0s - loss: 0.0267\n",
      "Epoch 19/100\n",
      " - 0s - loss: 0.0254\n",
      "Epoch 20/100\n",
      " - 0s - loss: 0.0243\n",
      "Epoch 21/100\n",
      " - 0s - loss: 0.0229\n",
      "Epoch 22/100\n",
      " - 0s - loss: 0.0216\n",
      "Epoch 23/100\n",
      " - 0s - loss: 0.0205\n",
      "Epoch 24/100\n",
      " - 0s - loss: 0.0194\n",
      "Epoch 25/100\n",
      " - 0s - loss: 0.0183\n",
      "Epoch 26/100\n",
      " - 0s - loss: 0.0173\n",
      "Epoch 27/100\n",
      " - 0s - loss: 0.0161\n",
      "Epoch 28/100\n",
      " - 0s - loss: 0.0153\n",
      "Epoch 29/100\n",
      " - 0s - loss: 0.0143\n",
      "Epoch 30/100\n",
      " - 0s - loss: 0.0136\n",
      "Epoch 31/100\n",
      " - 0s - loss: 0.0128\n",
      "Epoch 32/100\n",
      " - 0s - loss: 0.0121\n",
      "Epoch 33/100\n",
      " - 0s - loss: 0.0115\n",
      "Epoch 34/100\n",
      " - 0s - loss: 0.0110\n",
      "Epoch 35/100\n",
      " - 0s - loss: 0.0106\n",
      "Epoch 36/100\n",
      " - 0s - loss: 0.0103\n",
      "Epoch 37/100\n",
      " - 0s - loss: 0.0097\n",
      "Epoch 38/100\n",
      " - 0s - loss: 0.0095\n",
      "Epoch 39/100\n",
      " - 0s - loss: 0.0093\n",
      "Epoch 40/100\n",
      " - 0s - loss: 0.0090\n",
      "Epoch 41/100\n",
      " - 0s - loss: 0.0089\n",
      "Epoch 42/100\n",
      " - 0s - loss: 0.0087\n",
      "Epoch 43/100\n",
      " - 0s - loss: 0.0085\n",
      "Epoch 44/100\n",
      " - 0s - loss: 0.0086\n",
      "Epoch 45/100\n",
      " - 0s - loss: 0.0084\n",
      "Epoch 46/100\n",
      " - 0s - loss: 0.0082\n",
      "Epoch 47/100\n",
      " - 0s - loss: 0.0082\n",
      "Epoch 48/100\n",
      " - 0s - loss: 0.0082\n",
      "Epoch 49/100\n",
      " - 0s - loss: 0.0082\n",
      "Epoch 50/100\n",
      " - 0s - loss: 0.0082\n",
      "Epoch 51/100\n",
      " - 0s - loss: 0.0081\n",
      "Epoch 52/100\n",
      " - 0s - loss: 0.0084\n",
      "Epoch 53/100\n",
      " - 0s - loss: 0.0082\n",
      "Epoch 54/100\n",
      " - 0s - loss: 0.0081\n",
      "Epoch 55/100\n",
      " - 0s - loss: 0.0081\n",
      "Epoch 56/100\n",
      " - 0s - loss: 0.0081\n",
      "Epoch 57/100\n",
      " - 0s - loss: 0.0081\n",
      "Epoch 58/100\n",
      " - 0s - loss: 0.0081\n",
      "Epoch 59/100\n",
      " - 0s - loss: 0.0081\n",
      "Epoch 60/100\n",
      " - 0s - loss: 0.0080\n",
      "Epoch 61/100\n",
      " - 0s - loss: 0.0081\n",
      "Epoch 62/100\n",
      " - 0s - loss: 0.0080\n",
      "Epoch 63/100\n",
      " - 0s - loss: 0.0080\n",
      "Epoch 64/100\n",
      " - 0s - loss: 0.0081\n",
      "Epoch 65/100\n",
      " - 0s - loss: 0.0081\n",
      "Epoch 66/100\n",
      " - 0s - loss: 0.0080\n",
      "Epoch 67/100\n",
      " - 0s - loss: 0.0082\n",
      "Epoch 68/100\n",
      " - 0s - loss: 0.0080\n",
      "Epoch 69/100\n",
      " - 0s - loss: 0.0080\n",
      "Epoch 70/100\n",
      " - 0s - loss: 0.0082\n",
      "Epoch 71/100\n",
      " - 0s - loss: 0.0086\n",
      "Epoch 72/100\n",
      " - 0s - loss: 0.0080\n",
      "Epoch 73/100\n",
      " - 0s - loss: 0.0081\n",
      "Epoch 74/100\n",
      " - 0s - loss: 0.0080\n",
      "Epoch 75/100\n",
      " - 0s - loss: 0.0080\n",
      "Epoch 76/100\n",
      " - 0s - loss: 0.0081\n",
      "Epoch 77/100\n",
      " - 0s - loss: 0.0081\n",
      "Epoch 78/100\n",
      " - 0s - loss: 0.0082\n",
      "Epoch 79/100\n",
      " - 0s - loss: 0.0081\n",
      "Epoch 80/100\n",
      " - 0s - loss: 0.0081\n",
      "Epoch 81/100\n",
      " - 0s - loss: 0.0082\n",
      "Epoch 82/100\n",
      " - 0s - loss: 0.0080\n",
      "Epoch 83/100\n",
      " - 0s - loss: 0.0080\n",
      "Epoch 84/100\n",
      " - 0s - loss: 0.0080\n",
      "Epoch 85/100\n",
      " - 0s - loss: 0.0080\n",
      "Epoch 86/100\n",
      " - 0s - loss: 0.0080\n",
      "Epoch 87/100\n",
      " - 0s - loss: 0.0080\n",
      "Epoch 88/100\n",
      " - 0s - loss: 0.0080\n",
      "Epoch 89/100\n",
      " - 0s - loss: 0.0080\n",
      "Epoch 90/100\n",
      " - 0s - loss: 0.0080\n",
      "Epoch 91/100\n",
      " - 0s - loss: 0.0079\n",
      "Epoch 92/100\n",
      " - 0s - loss: 0.0080\n",
      "Epoch 93/100\n",
      " - 0s - loss: 0.0080\n",
      "Epoch 94/100\n",
      " - 0s - loss: 0.0080\n",
      "Epoch 95/100\n",
      " - 0s - loss: 0.0081\n",
      "Epoch 96/100\n",
      " - 0s - loss: 0.0081\n",
      "Epoch 97/100\n",
      " - 0s - loss: 0.0081\n",
      "Epoch 98/100\n",
      " - 0s - loss: 0.0081\n",
      "Epoch 99/100\n",
      " - 0s - loss: 0.0080\n",
      "Epoch 100/100\n",
      " - 0s - loss: 0.0080\n"
     ]
    },
    {
     "data": {
      "text/plain": [
       "<keras.callbacks.History at 0x1fee2fd0860>"
      ]
     },
     "execution_count": 10,
     "metadata": {},
     "output_type": "execute_result"
    }
   ],
   "source": [
    "# create and fit the LSTM network\n",
    "model = Sequential()\n",
    "model.add(LSTM(4, input_shape=(1, look_back)))\n",
    "model.add(Dense(1))\n",
    "model.compile(loss='mean_squared_error', optimizer='adam')\n",
    "model.fit(trainX, trainY, epochs=100, batch_size=1, verbose=2)"
   ]
  },
  {
   "cell_type": "code",
   "execution_count": 11,
   "metadata": {},
   "outputs": [],
   "source": [
    "# make predictions\n",
    "trainPredict = model.predict(trainX)\n",
    "testPredict = model.predict(testX)"
   ]
  },
  {
   "cell_type": "code",
   "execution_count": 12,
   "metadata": {},
   "outputs": [
    {
     "name": "stdout",
     "output_type": "stream",
     "text": [
      "Train Score: 2215.41 RMSE\n",
      "Test Score: 3675.80 RMSE\n"
     ]
    }
   ],
   "source": [
    "# invert predictions\n",
    "trainPredict = scaler.inverse_transform(trainPredict)\n",
    "trainY = scaler.inverse_transform([trainY])\n",
    "testPredict = scaler.inverse_transform(testPredict)\n",
    "testY = scaler.inverse_transform([testY])\n",
    "# calculate root mean squared error\n",
    "trainScore = math.sqrt(mean_squared_error(trainY[0], trainPredict[:,0]))\n",
    "print('Train Score: %.2f RMSE' % (trainScore))\n",
    "testScore = math.sqrt(mean_squared_error(testY[0], testPredict[:,0]))\n",
    "print('Test Score: %.2f RMSE' % (testScore))"
   ]
  },
  {
   "cell_type": "code",
   "execution_count": 13,
   "metadata": {},
   "outputs": [
    {
     "data": {
      "image/png": "[encoded data removed]",
      "text/plain": [
       "<Figure size 432x288 with 1 Axes>"
      ]
     },
     "metadata": {
      "needs_background": "light"
     },
     "output_type": "display_data"
    }
   ],
   "source": [
    "# shift train predictions for plotting\n",
    "trainPredictPlot = numpy.empty_like(state_data)\n",
    "trainPredictPlot[:, :] = numpy.nan\n",
    "trainPredictPlot[look_back:len(trainPredict)+look_back, :] = trainPredict\n",
    "# shift test predictions for plotting\n",
    "testPredictPlot = numpy.empty_like(state_data)\n",
    "testPredictPlot[:, :] = numpy.nan\n",
    "testPredictPlot[len(trainPredict)+(look_back*2)+1:len(state_data)-1, :] = testPredict\n",
    "# plot baseline and predictions\n",
    "plt.plot(scaler.inverse_transform(state_data))\n",
    "plt.plot(trainPredictPlot)\n",
    "plt.plot(testPredictPlot)\n",
    "plt.show()"
   ]
  },
  {
   "cell_type": "code",
   "execution_count": 14,
   "metadata": {},
   "outputs": [
    {
     "name": "stdout",
     "output_type": "stream",
     "text": [
      "Epoch 1/100\n",
      " - 1s - loss: 0.3006\n",
      "Epoch 2/100\n",
      " - 0s - loss: 0.1421\n",
      "Epoch 3/100\n",
      " - 0s - loss: 0.0682\n",
      "Epoch 4/100\n",
      " - 0s - loss: 0.0514\n",
      "Epoch 5/100\n",
      " - 0s - loss: 0.0463\n",
      "Epoch 6/100\n",
      " - 0s - loss: 0.0449\n",
      "Epoch 7/100\n",
      " - 0s - loss: 0.0437\n",
      "Epoch 8/100\n",
      " - 0s - loss: 0.0418\n",
      "Epoch 9/100\n",
      " - 0s - loss: 0.0411\n",
      "Epoch 10/100\n",
      " - 0s - loss: 0.0393\n",
      "Epoch 11/100\n",
      " - 0s - loss: 0.0389\n",
      "Epoch 12/100\n",
      " - 0s - loss: 0.0377\n",
      "Epoch 13/100\n",
      " - 0s - loss: 0.0365\n",
      "Epoch 14/100\n",
      " - 0s - loss: 0.0369\n",
      "Epoch 15/100\n",
      " - 0s - loss: 0.0358\n",
      "Epoch 16/100\n",
      " - 0s - loss: 0.0341\n",
      "Epoch 17/100\n",
      " - 0s - loss: 0.0331\n",
      "Epoch 18/100\n",
      " - 0s - loss: 0.0323\n",
      "Epoch 19/100\n",
      " - 0s - loss: 0.0321\n",
      "Epoch 20/100\n",
      " - 0s - loss: 0.0315\n",
      "Epoch 21/100\n",
      " - 0s - loss: 0.0319\n",
      "Epoch 22/100\n",
      " - 0s - loss: 0.0296\n",
      "Epoch 23/100\n",
      " - 0s - loss: 0.0295\n",
      "Epoch 24/100\n",
      " - 0s - loss: 0.0281\n",
      "Epoch 25/100\n",
      " - 0s - loss: 0.0270\n",
      "Epoch 26/100\n",
      " - 0s - loss: 0.0265\n",
      "Epoch 27/100\n",
      " - 0s - loss: 0.0255\n",
      "Epoch 28/100\n",
      " - 0s - loss: 0.0247\n",
      "Epoch 29/100\n",
      " - 0s - loss: 0.0240\n",
      "Epoch 30/100\n",
      " - 0s - loss: 0.0229\n",
      "Epoch 31/100\n",
      " - 0s - loss: 0.0221\n",
      "Epoch 32/100\n",
      " - 0s - loss: 0.0211\n",
      "Epoch 33/100\n",
      " - 0s - loss: 0.0209\n",
      "Epoch 34/100\n",
      " - 0s - loss: 0.0202\n",
      "Epoch 35/100\n",
      " - 0s - loss: 0.0182\n",
      "Epoch 36/100\n",
      " - 0s - loss: 0.0169\n",
      "Epoch 37/100\n",
      " - 0s - loss: 0.0160\n",
      "Epoch 38/100\n",
      " - 0s - loss: 0.0158\n",
      "Epoch 39/100\n",
      " - 0s - loss: 0.0151\n",
      "Epoch 40/100\n",
      " - 0s - loss: 0.0139\n",
      "Epoch 41/100\n",
      " - 0s - loss: 0.0136\n",
      "Epoch 42/100\n",
      " - 0s - loss: 0.0138\n",
      "Epoch 43/100\n",
      " - 0s - loss: 0.0129\n",
      "Epoch 44/100\n",
      " - 0s - loss: 0.0120\n",
      "Epoch 45/100\n",
      " - 0s - loss: 0.0129\n",
      "Epoch 46/100\n",
      " - 0s - loss: 0.0110\n",
      "Epoch 47/100\n",
      " - 0s - loss: 0.0110\n",
      "Epoch 48/100\n",
      " - 0s - loss: 0.0107\n",
      "Epoch 49/100\n",
      " - 0s - loss: 0.0109\n",
      "Epoch 50/100\n",
      " - 0s - loss: 0.0103\n",
      "Epoch 51/100\n",
      " - 0s - loss: 0.0102\n",
      "Epoch 52/100\n",
      " - 0s - loss: 0.0102\n",
      "Epoch 53/100\n",
      " - 0s - loss: 0.0097\n",
      "Epoch 54/100\n",
      " - 0s - loss: 0.0097\n",
      "Epoch 55/100\n",
      " - 0s - loss: 0.0100\n",
      "Epoch 56/100\n",
      " - 0s - loss: 0.0111\n",
      "Epoch 57/100\n",
      " - 0s - loss: 0.0105\n",
      "Epoch 58/100\n",
      " - 0s - loss: 0.0092\n",
      "Epoch 59/100\n",
      " - 0s - loss: 0.0100\n",
      "Epoch 60/100\n",
      " - 0s - loss: 0.0101\n",
      "Epoch 61/100\n",
      " - 0s - loss: 0.0095\n",
      "Epoch 62/100\n",
      " - 0s - loss: 0.0091\n",
      "Epoch 63/100\n",
      " - 0s - loss: 0.0091\n",
      "Epoch 64/100\n",
      " - 0s - loss: 0.0089\n",
      "Epoch 65/100\n",
      " - 0s - loss: 0.0090\n",
      "Epoch 66/100\n",
      " - 0s - loss: 0.0084\n",
      "Epoch 67/100\n",
      " - 0s - loss: 0.0088\n",
      "Epoch 68/100\n",
      " - 0s - loss: 0.0093\n",
      "Epoch 69/100\n",
      " - 0s - loss: 0.0081\n",
      "Epoch 70/100\n",
      " - 0s - loss: 0.0090\n",
      "Epoch 71/100\n",
      " - 0s - loss: 0.0081\n",
      "Epoch 72/100\n",
      " - 0s - loss: 0.0086\n",
      "Epoch 73/100\n",
      " - 0s - loss: 0.0093\n",
      "Epoch 74/100\n",
      " - 0s - loss: 0.0081\n",
      "Epoch 75/100\n",
      " - 0s - loss: 0.0083\n",
      "Epoch 76/100\n",
      " - 0s - loss: 0.0091\n",
      "Epoch 77/100\n",
      " - 0s - loss: 0.0086\n",
      "Epoch 78/100\n",
      " - 0s - loss: 0.0078\n",
      "Epoch 79/100\n",
      " - 0s - loss: 0.0078\n",
      "Epoch 80/100\n",
      " - 0s - loss: 0.0078\n",
      "Epoch 81/100\n",
      " - 0s - loss: 0.0076\n",
      "Epoch 82/100\n",
      " - 0s - loss: 0.0079\n",
      "Epoch 83/100\n",
      " - 0s - loss: 0.0075\n",
      "Epoch 84/100\n",
      " - 0s - loss: 0.0074\n",
      "Epoch 85/100\n",
      " - 0s - loss: 0.0075\n",
      "Epoch 86/100\n",
      " - 0s - loss: 0.0074\n",
      "Epoch 87/100\n",
      " - 0s - loss: 0.0072\n",
      "Epoch 88/100\n",
      " - 0s - loss: 0.0075\n",
      "Epoch 89/100\n",
      " - 0s - loss: 0.0072\n",
      "Epoch 90/100\n",
      " - 0s - loss: 0.0074\n",
      "Epoch 91/100\n",
      " - 0s - loss: 0.0073\n",
      "Epoch 92/100\n",
      " - 0s - loss: 0.0073\n",
      "Epoch 93/100\n",
      " - 0s - loss: 0.0073\n",
      "Epoch 94/100\n",
      " - 0s - loss: 0.0070\n",
      "Epoch 95/100\n",
      " - 0s - loss: 0.0069\n",
      "Epoch 96/100\n",
      " - 0s - loss: 0.0071\n",
      "Epoch 97/100\n",
      " - 0s - loss: 0.0066\n",
      "Epoch 98/100\n",
      " - 0s - loss: 0.0069\n",
      "Epoch 99/100\n",
      " - 0s - loss: 0.0073\n",
      "Epoch 100/100\n",
      " - 0s - loss: 0.0065\n"
     ]
    },
    {
     "data": {
      "text/plain": [
       "<keras.callbacks.History at 0x1fee5c565f8>"
      ]
     },
     "execution_count": 14,
     "metadata": {},
     "output_type": "execute_result"
    }
   ],
   "source": [
    "# re-train the LSTM on all data\n",
    "look_back = 30 # look back further\n",
    "trainX, trainY = create_dataset(state_data, look_back)\n",
    "trainX = numpy.reshape(trainX, (trainX.shape[0], 1, trainX.shape[1]))\n",
    "\n",
    "# re-create and fit the LSTM network\n",
    "model = Sequential()\n",
    "model.add(LSTM(4, input_shape=(1, look_back)))\n",
    "model.add(Dense(1))\n",
    "model.compile(loss='mean_squared_error', optimizer='adam')\n",
    "model.fit(trainX, trainY, epochs=100, batch_size=1, verbose=2)"
   ]
  },
  {
   "cell_type": "code",
   "execution_count": 18,
   "metadata": {},
   "outputs": [
    {
     "name": "stdout",
     "output_type": "stream",
     "text": [
      "58\n"
     ]
    },
    {
     "data": {
      "image/png": "[encoded data removed]",
      "text/plain": [
       "<Figure size 432x288 with 1 Axes>"
      ]
     },
     "metadata": {
      "needs_background": "light"
     },
     "output_type": "display_data"
    }
   ],
   "source": [
    "# making future prediction\n",
    "flatten_state_data = state_data.reshape(-1)\n",
    "val = flatten_state_data[-look_back:] # last batch in the training data\n",
    "pred_list = []\n",
    "for i in range(23): # predict the next 23 points\n",
    "    pred = model.predict(val.reshape(1,1,look_back))\n",
    "    pred_list = np.append(pred_list,pred)\n",
    "    val = np.append(np.delete(val, 0), pred) # update the data batch to be fed in the next iteration\n",
    "pred_list = pred_list.reshape(pred_list.shape[0],1)\n",
    "\n",
    "# invert prediction\n",
    "pred_list = scaler.inverse_transform(pred_list)\n",
    "\n",
    "# plot\n",
    "data_len = len(state_data)\n",
    "print(data_len)\n",
    "plt.plot(list(range(data_len)),scaler.inverse_transform(state_data),label=\"actual data\")\n",
    "plt.plot(list(range(data_len,data_len+len(pred_list))),pred_list,label=\"predicted data\")\n",
    "plt.legend()\n",
    "plt.show()"
   ]
  },
  {
   "cell_type": "code",
   "execution_count": 22,
   "metadata": {},
   "outputs": [
    {
     "data": {
      "text/plain": [
       "array([[13166.56540175],\n",
       "       [15228.21422147],\n",
       "       [16343.26432478],\n",
       "       [16079.15649759],\n",
       "       [14367.94903804],\n",
       "       [15153.21013988],\n",
       "       [15844.39679829],\n",
       "       [15699.72824703],\n",
       "       [15590.06994249],\n",
       "       [15644.46858901],\n",
       "       [16528.94860345],\n",
       "       [20077.53298864],\n",
       "       [24418.62110174],\n",
       "       [27578.50348716],\n",
       "       [31912.85023779],\n",
       "       [34281.22173986],\n",
       "       [35388.33355554],\n",
       "       [33960.44282146],\n",
       "       [28449.90223442],\n",
       "       [18772.90394482],\n",
       "       [12366.08242113],\n",
       "       [10911.60181244],\n",
       "       [10853.24668404]])"
      ]
     },
     "execution_count": 22,
     "metadata": {},
     "output_type": "execute_result"
    }
   ],
   "source": [
    "pred_list\n"
   ]
  },
  {
   "cell_type": "code",
   "execution_count": 23,
   "metadata": {},
   "outputs": [
    {
     "data": {
      "text/plain": [
       "23"
      ]
     },
     "execution_count": 23,
     "metadata": {},
     "output_type": "execute_result"
    }
   ],
   "source": [
    "len(pred_list)"
   ]
  },
  {
   "cell_type": "code",
   "execution_count": null,
   "metadata": {},
   "outputs": [],
   "source": []
  }
 ],
 "metadata": {
  "kernelspec": {
   "display_name": "Python 3",
   "language": "python",
   "name": "python3"
  },
  "language_info": {
   "codemirror_mode": {
    "name": "ipython",
    "version": 3
   },
   "file_extension": ".py",
   "mimetype": "text/x-python",
   "name": "python",
   "nbconvert_exporter": "python",
   "pygments_lexer": "ipython3",
   "version": "3.7.1"
  }
 },
 "nbformat": 4,
 "nbformat_minor": 2
}
